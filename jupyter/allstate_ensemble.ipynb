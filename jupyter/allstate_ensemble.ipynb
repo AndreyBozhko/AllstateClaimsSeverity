{
 "cells": [
  {
   "cell_type": "code",
   "execution_count": 1,
   "metadata": {
    "collapsed": true
   },
   "outputs": [],
   "source": [
    "import numpy as np\n",
    "import pandas as pd\n",
    "import seaborn\n",
    "\n",
    "from sklearn.ensemble import GradientBoostingRegressor, RandomForestRegressor, BaggingRegressor\n",
    "\n",
    "from sklearn.model_selection import cross_val_score\n",
    "\n",
    "import matplotlib.pyplot as plt\n",
    "%matplotlib inline"
   ]
  },
  {
   "cell_type": "code",
   "execution_count": 2,
   "metadata": {
    "collapsed": true
   },
   "outputs": [],
   "source": [
    "#encoder\n",
    "def my_one_hot_encoder(df, cat_features, cat_dict):\n",
    "    tr_data = df.copy()\n",
    "\n",
    "    new_cat_features = []\n",
    "\n",
    "    for col in cat_features:\n",
    "        uniq = cat_dict[col]\n",
    "        for j, v in enumerate(uniq):\n",
    "            tr_data[col+'_'+str(j)] = np.array(map(int, tr_data[col]==uniq[j]))\n",
    "            new_cat_features += [col+'_'+str(j)]\n",
    "    return tr_data.copy(), new_cat_features\n",
    "\n",
    "\n",
    "cont_features = [\"cont\"+str(i+1) for i in range(14)]\n",
    "cat_features = [\"cat\"+str(i+1) for i in range(116)]\n",
    "target = [\"loss\"]\n",
    "\n",
    "unique_categories = {x[0]:x[1].split() for x in pd.read_csv(\"categories.csv\").as_matrix()}"
   ]
  },
  {
   "cell_type": "code",
   "execution_count": 3,
   "metadata": {
    "collapsed": false
   },
   "outputs": [],
   "source": [
    "#one_hot_encode transformation\n",
    "\n",
    "for fin, fout, flag in [(\"train.csv\", \"train_0.csv\", True), \n",
    "                        (\"test.csv\", \"test_0.csv\", False)]:\n",
    "    \n",
    "    df = pd.read_csv(fin)\n",
    "    df, ncf = my_one_hot_encoder(df, cat_features, unique_categories)\n",
    "    if flag:\n",
    "        df = df[[\"id\"]+cont_features+ncf+target]\n",
    "    else:\n",
    "        df = df[[\"id\"]+cont_features+ncf]\n",
    "    df.to_csv(fout, index=False)"
   ]
  },
  {
   "cell_type": "code",
   "execution_count": 16,
   "metadata": {
    "collapsed": false
   },
   "outputs": [
    {
     "name": "stdout",
     "output_type": "stream",
     "text": [
      "step 1 out of 13 completed\n",
      "step 2 out of 13 completed\n",
      "step 3 out of 13 completed\n",
      "step 4 out of 13 completed\n",
      "step 5 out of 13 completed\n",
      "step 6 out of 13 completed\n",
      "step 7 out of 13 completed\n",
      "step 8 out of 13 completed\n",
      "step 9 out of 13 completed\n",
      "step 10 out of 13 completed\n",
      "step 11 out of 13 completed\n",
      "step 12 out of 13 completed\n",
      "step 13 out of 13 completed\n"
     ]
    }
   ],
   "source": [
    "#first transformation\n",
    "\n",
    "fin, chunksize = \"train_0.csv\", 14500\n",
    "reader = pd.read_csv(fin, chunksize=chunksize)\n",
    "models, modelcols = [], []\n",
    "\n",
    "step = 0\n",
    "for df in reader:\n",
    "    step += 1\n",
    "    \n",
    "    y_train = df[target].values.squeeze()\n",
    "    cols = df.columns[:-1]\n",
    "    X_train = df[cols].as_matrix()\n",
    "\n",
    "    #model = RandomForestRegressor(n_estimators=3, criterion='mae', max_depth=5, random_state=42, max_features='log2')\n",
    "    model = GradientBoostingRegressor(loss='lad', max_features=\"sqrt\", max_depth=7)\n",
    "    #model.fit(X_train, y_train)\n",
    "    model.fit(X_train, np.log(y_train))\n",
    "    \n",
    "    models += [model]\n",
    "    modelcols += [\"model_\"+str(step)]\n",
    "    print \"step\",step,\"out of\",188318/chunksize+1,\"completed\"\n",
    "    \n",
    "    \n",
    "for fin, fout, flag in [(\"train_0.csv\", \"train_1.csv\", True), \n",
    "                        (\"test_0.csv\", \"test_1.csv\", False)]:\n",
    "    df = pd.read_csv(fin)\n",
    "    X_train = df[cols].as_matrix()\n",
    "    \n",
    "    #X_train = np.array(map(lambda x: x.predict(X_train), models)).transpose()\n",
    "    X_train = np.array(map(lambda x: np.exp(x.predict(X_train)), models)).transpose()\n",
    "    df1 = pd.DataFrame(X_train, columns=modelcols)\n",
    "    df1[\"id\"] = df[\"id\"]\n",
    "    if flag:\n",
    "        df1[target] = df[target]\n",
    "    df1.to_csv(fout, index=False)"
   ]
  },
  {
   "cell_type": "code",
   "execution_count": 17,
   "metadata": {
    "collapsed": false
   },
   "outputs": [],
   "source": [
    "#second transformation\n",
    "#cols = [\"model_\"+str(i+1) for i in range(16)]\n",
    "\n",
    "#fin, chunksize = \"train_1.csv\", 20000\n",
    "#reader = pd.read_csv(fin, chunksize=chunksize)\n",
    "#models, modelcols = [], []\n",
    "\n",
    "#step = 0\n",
    "#for df in reader:\n",
    "#    step += 1\n",
    "    \n",
    "#    y_train = df[target].values.squeeze()\n",
    "#    X_train = df[cols].as_matrix()\n",
    "\n",
    "    #model = RandomForestRegressor(n_estimators=3, criterion='mae', max_depth=5, random_state=24, max_features=\"auto\")\n",
    "#    model = GradientBoostingRegressor(loss='lad', max_depth=5)\n",
    "#    model.fit(X_train, y_train)\n",
    "    \n",
    "#    models += [model]\n",
    "#    modelcols += [\"model_\"+str(step)]\n",
    "#    print \"step\",step,\"out of\",188318/chunksize+1,\"completed\"\n",
    "    \n",
    "    \n",
    "#for fin, fout, flag in [(\"train_1.csv\", \"train_2.csv\", True), \n",
    "#                        (\"test_1.csv\", \"test_2.csv\", False)]:\n",
    "#    df = pd.read_csv(fin)\n",
    "#    X_train = df[cols].as_matrix()\n",
    "    \n",
    "#    X_train = np.array(map(lambda x: x.predict(X_train), models)).transpose()\n",
    "#    df1 = pd.DataFrame(X_train, columns=modelcols)\n",
    "#    df1[\"id\"] = df[\"id\"]\n",
    "#    if flag:\n",
    "#        df1[target] = df[target]\n",
    "#    df1.to_csv(fout, index=False)"
   ]
  },
  {
   "cell_type": "code",
   "execution_count": 21,
   "metadata": {
    "collapsed": false
   },
   "outputs": [
    {
     "name": "stdout",
     "output_type": "stream",
     "text": [
      "1188.61832841\n"
     ]
    }
   ],
   "source": [
    "#final model\n",
    "fin = \"train_1.csv\"\n",
    "df = pd.read_csv(fin)\n",
    "cols = [c for c in df.columns if c not in [\"id\", \"loss\"]]\n",
    "\n",
    "y_train = df[target].values.squeeze()\n",
    "X_train = df[cols].as_matrix()\n",
    "\n",
    "finalmodel = GradientBoostingRegressor(loss='lad', max_depth=5, max_features=\"auto\", n_estimators=100)\n",
    "\n",
    "print -np.mean(cross_val_score(finalmodel, X_train, y_train, \n",
    "                               scoring=\"neg_mean_absolute_error\", cv=3))"
   ]
  },
  {
   "cell_type": "code",
   "execution_count": 22,
   "metadata": {
    "collapsed": true
   },
   "outputs": [],
   "source": [
    "#prediction for test data\n",
    "finalmodel = GradientBoostingRegressor(loss='lad', max_depth=5, max_features=\"auto\", n_estimators=100)\n",
    "finalmodel.fit(X_train, y_train)\n",
    "\n",
    "fin = \"test_1.csv\"\n",
    "df = pd.read_csv(fin)\n",
    "cols = [c for c in df.columns if c not in [\"id\", \"loss\"]]\n",
    "\n",
    "X_test = df[cols].as_matrix()\n",
    "pred = finalmodel.predict(X_test)\n",
    "pred = np.array(map(lambda x: max(x, 0.0), pred))\n",
    "\n",
    "df1 = pd.DataFrame(zip(df[\"id\"].values.squeeze(), pred), columns=[\"id\", \"loss\"])\n",
    "df1.to_csv(\"submission_2.csv\", index=False)"
   ]
  },
  {
   "cell_type": "code",
   "execution_count": null,
   "metadata": {
    "collapsed": true
   },
   "outputs": [],
   "source": []
  },
  {
   "cell_type": "code",
   "execution_count": null,
   "metadata": {
    "collapsed": true
   },
   "outputs": [],
   "source": []
  },
  {
   "cell_type": "code",
   "execution_count": null,
   "metadata": {
    "collapsed": true
   },
   "outputs": [],
   "source": []
  },
  {
   "cell_type": "code",
   "execution_count": 2,
   "metadata": {
    "collapsed": false
   },
   "outputs": [],
   "source": [
    "##with neural network\n",
    "from myneuralnetworks import NNRegressor\n",
    "fin = \"train_1.csv\"\n",
    "df = pd.read_csv(fin)\n",
    "cols = [c for c in df.columns if c not in [\"id\", \"loss\"]]\n",
    "target = \"loss\"\n",
    "\n",
    "y_train = df[target].values.squeeze()\n",
    "X_train = df[cols].as_matrix()"
   ]
  },
  {
   "cell_type": "code",
   "execution_count": 3,
   "metadata": {
    "collapsed": false
   },
   "outputs": [
    {
     "name": "stderr",
     "output_type": "stream",
     "text": [
      "myneuralnetworks.py:261: RuntimeWarning: overflow encountered in square\n",
      "  return np.sum((output-h)**2)\n",
      "myneuralnetworks.py:56: RuntimeWarning: invalid value encountered in subtract\n",
      "  grad = [(w-w)[:] for w in weights]\n"
     ]
    },
    {
     "name": "stdout",
     "output_type": "stream",
     "text": [
      "Iteration i = 1  Cost function = nan\n",
      "Iteration i = 2  Cost function = nan\n",
      "<myneuralnetworks.NNRegressor object at 0x000000000C354FD0>\n"
     ]
    }
   ],
   "source": [
    "finalmodel = NNRegressor(batch_size=100, random_seed=42, learning_rate=1.0, verbose=1, max_iter=2)\n",
    "finalmodel.fit(X_train, np.log(y_train))"
   ]
  },
  {
   "cell_type": "code",
   "execution_count": 3,
   "metadata": {
    "collapsed": false
   },
   "outputs": [
    {
     "name": "stdout",
     "output_type": "stream",
     "text": [
      "Iteration i = 1  Cost function = 0.83956909586\n",
      "Iteration i = 2  Cost function = 0.830460669941\n",
      "Iteration i = 3  Cost function = 0.821469079579\n",
      "Iteration i = 4  Cost function = 0.812592996763\n",
      "Iteration i = 5  Cost function = 0.80383110973\n",
      "Iteration i = 6  Cost function = 0.795182122754\n",
      "Iteration i = 7  Cost function = 0.78664475592\n",
      "Iteration i = 8  Cost function = 0.77821774491\n",
      "Iteration i = 9  Cost function = 0.769899840794\n",
      "Iteration i = 10  Cost function = 0.761689809813\n",
      "Iteration i = 15  Cost function = 0.722215606201\n",
      "Iteration i = 20  Cost function = 0.685261530226\n",
      "Iteration i = 25  Cost function = 0.650689209627\n",
      "Iteration i = 30  Cost function = 0.618368266635\n",
      "Iteration i = 35  Cost function = 0.588175743131\n",
      "Iteration i = 40  Cost function = 0.559995551635\n",
      "Iteration i = 45  Cost function = 0.53371795147\n",
      "Iteration i = 50  Cost function = 0.509239050113\n",
      "Iteration i = 60  Cost function = 0.465288204689\n",
      "Iteration i = 70  Cost function = 0.427411564325\n",
      "Iteration i = 80  Cost function = 0.394943988493\n",
      "Iteration i = 90  Cost function = 0.367276020691\n",
      "Iteration i = 100  Cost function = 0.343845725091\n",
      "Iteration i = 110  Cost function = 0.324133142229\n",
      "Iteration i = 120  Cost function = 0.307657252624\n",
      "Iteration i = 130  Cost function = 0.293975009534\n",
      "Iteration i = 140  Cost function = 0.282681724157\n",
      "Iteration i = 150  Cost function = 0.273411961068\n",
      "Iteration i = 160  Cost function = 0.265840171588\n",
      "Iteration i = 170  Cost function = 0.259680522144\n",
      "Iteration i = 180  Cost function = 0.254685673649\n",
      "Iteration i = 190  Cost function = 0.250644541562\n",
      "Iteration i = 200  Cost function = 0.247379253165\n",
      "Iteration i = 210  Cost function = 0.244741602945\n",
      "Iteration i = 220  Cost function = 0.242609307248\n",
      "Iteration i = 230  Cost function = 0.24088230812\n",
      "Iteration i = 240  Cost function = 0.239479304535\n",
      "Iteration i = 250  Cost function = 0.238334618523\n",
      "Iteration i = 260  Cost function = 0.237395445539\n",
      "Iteration i = 270  Cost function = 0.2366194962\n",
      "Iteration i = 280  Cost function = 0.235973009324\n",
      "Iteration i = 290  Cost function = 0.235429101004\n",
      "Iteration i = 300  Cost function = 0.234966407884\n",
      "Iteration i = 310  Cost function = 0.234567981797\n",
      "Iteration i = 320  Cost function = 0.234220395349\n",
      "Iteration i = 330  Cost function = 0.233913022092\n",
      "Iteration i = 340  Cost function = 0.233637459658\n",
      "Iteration i = 350  Cost function = 0.233387069055\n",
      "Iteration i = 360  Cost function = 0.233156607688\n",
      "Iteration i = 370  Cost function = 0.232941937687\n",
      "Iteration i = 380  Cost function = 0.232739794462\n",
      "Iteration i = 390  Cost function = 0.23254760331\n",
      "Iteration i = 400  Cost function = 0.232363334245\n",
      "Iteration i = 410  Cost function = 0.232185387187\n",
      "Iteration i = 420  Cost function = 0.232012501229\n",
      "Iteration i = 430  Cost function = 0.231843682966\n",
      "Iteration i = 440  Cost function = 0.23167814991\n",
      "Iteration i = 450  Cost function = 0.231515285835\n",
      "Iteration i = 460  Cost function = 0.231354605545\n",
      "Iteration i = 470  Cost function = 0.231195727087\n",
      "Iteration i = 480  Cost function = 0.231038349833\n",
      "Iteration i = 490  Cost function = 0.230882237212\n",
      "Iteration i = 500  Cost function = 0.230727203086\n",
      "Iteration i = 510  Cost function = 0.230573101023\n",
      "Iteration i = 520  Cost function = 0.230419815838\n",
      "Iteration i = 530  Cost function = 0.230267256934\n",
      "Iteration i = 540  Cost function = 0.230115353054\n",
      "Iteration i = 550  Cost function = 0.229964048147\n",
      "Iteration i = 560  Cost function = 0.229813298115\n",
      "Iteration i = 570  Cost function = 0.229663068256\n",
      "Iteration i = 580  Cost function = 0.229513331242\n",
      "Iteration i = 590  Cost function = 0.229364065535\n",
      "Iteration i = 600  Cost function = 0.229215254143\n",
      "Iteration i = 610  Cost function = 0.229066883634\n",
      "Iteration i = 620  Cost function = 0.228918943369\n",
      "Iteration i = 630  Cost function = 0.228771424892\n",
      "Iteration i = 640  Cost function = 0.228624321457\n",
      "Iteration i = 650  Cost function = 0.228477627654\n",
      "Iteration i = 660  Cost function = 0.228331339116\n",
      "Iteration i = 670  Cost function = 0.228185452286\n",
      "Iteration i = 680  Cost function = 0.228039964244\n",
      "Iteration i = 690  Cost function = 0.227894872556\n",
      "Iteration i = 700  Cost function = 0.227750175173\n",
      "Iteration i = 710  Cost function = 0.22760587034\n",
      "Iteration i = 720  Cost function = 0.227461956528\n",
      "Iteration i = 730  Cost function = 0.227318432386\n",
      "Iteration i = 740  Cost function = 0.227175296696\n",
      "Iteration i = 750  Cost function = 0.227032548342\n",
      "Iteration i = 760  Cost function = 0.226890186286\n",
      "Iteration i = 770  Cost function = 0.226748209551\n",
      "Iteration i = 780  Cost function = 0.226606617202\n",
      "Iteration i = 790  Cost function = 0.226465408339\n",
      "Iteration i = 800  Cost function = 0.226324582086\n",
      "Iteration i = 810  Cost function = 0.226184137584\n",
      "Iteration i = 820  Cost function = 0.226044073988\n",
      "Iteration i = 830  Cost function = 0.22590439046\n",
      "Iteration i = 840  Cost function = 0.225765086172\n",
      "Iteration i = 850  Cost function = 0.225626160296\n",
      "Iteration i = 860  Cost function = 0.22548761201\n",
      "Iteration i = 870  Cost function = 0.225349440492\n",
      "Iteration i = 880  Cost function = 0.225211644921\n",
      "Iteration i = 890  Cost function = 0.225074224476\n",
      "Iteration i = 900  Cost function = 0.224937178337\n",
      "Iteration i = 910  Cost function = 0.224800505682\n",
      "Iteration i = 920  Cost function = 0.22466420569\n",
      "Iteration i = 930  Cost function = 0.224528277539\n",
      "Iteration i = 940  Cost function = 0.224392720407\n",
      "Iteration i = 950  Cost function = 0.224257533471\n",
      "Iteration i = 960  Cost function = 0.224122715908\n",
      "Iteration i = 970  Cost function = 0.223988266895\n",
      "Iteration i = 980  Cost function = 0.22385418561\n",
      "Iteration i = 990  Cost function = 0.223720471228\n",
      "Iteration i = 1000  Cost function = 0.223587122927\n",
      "<myneuralnetworks.NNRegressor object at 0x000000000C3EBC18>\n"
     ]
    },
    {
     "data": {
      "text/plain": [
       "[<matplotlib.lines.Line2D at 0x11c14b38>,\n",
       " <matplotlib.lines.Line2D at 0x2a86e48>]"
      ]
     },
     "execution_count": 3,
     "metadata": {},
     "output_type": "execute_result"
    },
    {
     "data": {
      "image/png": "[encoded data removed]",
      "text/plain": [
       "<matplotlib.figure.Figure at 0x2a86eb8>"
      ]
     },
     "metadata": {},
     "output_type": "display_data"
    }
   ],
   "source": [
    "finalmodel = NNRegressor(batch_size=None, random_seed=42, learning_rate=1.0e-3, verbose=1, max_iter=1000, L2=0.1)\n",
    "Xt = np.array([[1],[2],[3],[4],[5]])\n",
    "yt = np.array([1,2,3,5,5])\n",
    "finalmodel.fit(Xt, yt)\n",
    "pyt = finalmodel.predict(Xt)\n",
    "\n",
    "plt.plot(Xt[:,0],yt,Xt[:,0],pyt)"
   ]
  },
  {
   "cell_type": "code",
   "execution_count": null,
   "metadata": {
    "collapsed": true
   },
   "outputs": [],
   "source": []
  }
 ],
 "metadata": {
  "anaconda-cloud": {},
  "kernelspec": {
   "display_name": "Python [default]",
   "language": "python",
   "name": "python2"
  },
  "language_info": {
   "codemirror_mode": {
    "name": "ipython",
    "version": 2
   },
   "file_extension": ".py",
   "mimetype": "text/x-python",
   "name": "python",
   "nbconvert_exporter": "python",
   "pygments_lexer": "ipython2",
   "version": "2.7.12"
  }
 },
 "nbformat": 4,
 "nbformat_minor": 1
}
